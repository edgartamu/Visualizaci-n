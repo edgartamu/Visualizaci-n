{
  "nbformat": 4,
  "nbformat_minor": 0,
  "metadata": {
    "colab": {
      "name": "Ejercicios_3D.ipynb",
      "provenance": [],
      "collapsed_sections": []
    },
    "kernelspec": {
      "name": "python3",
      "display_name": "Python 3"
    }
  },
  "cells": [
    {
      "cell_type": "markdown",
      "metadata": {
        "id": "N7BA2BpBGRdD",
        "colab_type": "text"
      },
      "source": [
        "# Ejercicios de funciones con dos variables"
      ]
    },
    {
      "cell_type": "code",
      "metadata": {
        "id": "TQow6HGFIxN5",
        "colab_type": "code",
        "colab": {}
      },
      "source": [
        "from mpl_toolkits import mplot3d\n",
        "\n",
        "%matplotlib inline\n",
        "import numpy as np\n",
        "import matplotlib.pyplot as plt"
      ],
      "execution_count": 0,
      "outputs": []
    },
    {
      "cell_type": "markdown",
      "metadata": {
        "id": "ZL9_3QSEGgLv",
        "colab_type": "text"
      },
      "source": [
        "**Ejercicio 1** - Generar un conjunto de datos para x e y comprendidos en el conjunto (-2,2) y aplicar la función g(x,y) = sqrt(x^2+y^2). Obtener una gráfica en 3d para visualizar en malla el conjunto generado"
      ]
    },
    {
      "cell_type": "code",
      "metadata": {
        "id": "F4wHuG4EGNXC",
        "colab_type": "code",
        "colab": {}
      },
      "source": [
        ""
      ],
      "execution_count": 0,
      "outputs": []
    },
    {
      "cell_type": "markdown",
      "metadata": {
        "id": "KOedEgvXHB9y",
        "colab_type": "text"
      },
      "source": [
        "**Ejercicio 2** - Generar el conjunto de datos creciente contenido en (0,20) y otro contenido en (0,10). Dibujar la malla (surface 3d) resultante con una mapeado de colores azulado.\n",
        "\n",
        "**Ejercicio 2B** - Con el mapa generado cambiar la visualización a contour y proyectar al menos 4 orientaciones diferentes"
      ]
    },
    {
      "cell_type": "code",
      "metadata": {
        "id": "lVoS6IdzHBcZ",
        "colab_type": "code",
        "colab": {}
      },
      "source": [
        ""
      ],
      "execution_count": 0,
      "outputs": []
    },
    {
      "cell_type": "markdown",
      "metadata": {
        "id": "8fQstmxKU9Bh",
        "colab_type": "text"
      },
      "source": [
        "**Ejercicio 3** - Generar un conjunto de datos para x e y comprendidos en el conjunto (-7,5) y aplicar la función \n",
        "\n",
        "fz(x,y) = (Pi/4 + sin(x) + sin(3*x)/3 + sin(5*x)/5) * (Pi/4 + sin(y) + sin(3*y)/3 + sin(5*y)/5). \n",
        "\n",
        "Obtener una gráfica en 3d con plot_surface y de cmap viridis."
      ]
    },
    {
      "cell_type": "code",
      "metadata": {
        "id": "9MSL8uPkU8kb",
        "colab_type": "code",
        "colab": {}
      },
      "source": [
        ""
      ],
      "execution_count": 0,
      "outputs": []
    },
    {
      "cell_type": "markdown",
      "metadata": {
        "id": "_yxF2EjHIX6T",
        "colab_type": "text"
      },
      "source": [
        "**Ejercicio 3** - Generar un conjunto de datos para x e y comprendidos en el conjunto (-2,2) y aplicar la función f(x,y) = x^2-y^2. Obtener una gráfica en 3d para visualizar en malla el conjunto generado. Añadir a la gráfica obtenida un plano que corte la figura en dos.\n",
        "\n",
        "Nota: funcion np.meshgrid devuelve las coordenadas de una cuadrícula en 2D basadas en las coordenadas en los vectores que se le han pasado como parámetro"
      ]
    },
    {
      "cell_type": "code",
      "metadata": {
        "id": "r2rMPkD2Ivwi",
        "colab_type": "code",
        "colab": {}
      },
      "source": [
        ""
      ],
      "execution_count": 0,
      "outputs": []
    },
    {
      "cell_type": "code",
      "metadata": {
        "id": "2AH3WcUFLrFI",
        "colab_type": "code",
        "colab": {}
      },
      "source": [
        ""
      ],
      "execution_count": 0,
      "outputs": []
    },
    {
      "cell_type": "markdown",
      "metadata": {
        "id": "THjtTzMHSn_q",
        "colab_type": "text"
      },
      "source": [
        "**Ejercicio con Folium**- Vamos a pintar coordenadas geográficas correspondientes a los volcanes situados en USA."
      ]
    },
    {
      "cell_type": "code",
      "metadata": {
        "id": "1m24v1PHNHmq",
        "colab_type": "code",
        "colab": {}
      },
      "source": [
        "import folium\n",
        "import pandas\n",
        "def color(elev):\n",
        "    minimum=int(min(df['ELEV']))\n",
        "    step=int((max(df['ELEV'])-min(df['ELEV']))/3)\n",
        "    if elev in range(minimum,minimum+step):\n",
        "        col='green'\n",
        "    elif elev in range(minimum+step,minimum+step*2):\n",
        "        col='orange'\n",
        "    else:\n",
        "        col='red'\n",
        "    return col\n",
        "df=pandas.read_csv(\"https://pythonhow.com/data/Volcanoes_USA.txt\")\n",
        "\n",
        "\n",
        "\n"
      ],
      "execution_count": 0,
      "outputs": []
    },
    {
      "cell_type": "code",
      "metadata": {
        "id": "-5g8R0_zUFgB",
        "colab_type": "code",
        "colab": {}
      },
      "source": [
        "#TODO analizar el dataset cargado. Gracias a cargarlo con pandas podemos obtener mucha información de como está construido\n",
        "# Usar las funciones de pandas para visualizar que tiene el dataset y como además de intentar calcular la localización media de todos los volcanes\n",
        "\n",
        "\n",
        "\n"
      ],
      "execution_count": 0,
      "outputs": []
    },
    {
      "cell_type": "code",
      "metadata": {
        "id": "22VzZeHiTn3D",
        "colab_type": "code",
        "colab": {}
      },
      "source": [
        "# TODO invocar por primera vez la libreria de folium para dibujar el mapa con un zoom de 8 y centrado en la media obtenida de todas las latitudes y las longitudes\n",
        "fg=folium.FeatureGroup(name=\"Volcano Locations\")\n",
        "\n",
        "#TODO dibujar para cada volcan del dataset un marcador que contenga (lat,long), el nombre, y el icono usar para el color la función definida anteriormente\n",
        "#Nota: como ya hemos definido el grupo fg de nombre Volcano Locations, intentar aprobecharlo\n"
      ],
      "execution_count": 0,
      "outputs": []
    },
    {
      "cell_type": "code",
      "metadata": {
        "id": "KEAjJzLPQCuB",
        "colab_type": "code",
        "colab": {}
      },
      "source": [
        ""
      ],
      "execution_count": 0,
      "outputs": []
    }
  ]
}
